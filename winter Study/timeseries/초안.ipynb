{
  "nbformat": 4,
  "nbformat_minor": 0,
  "metadata": {
    "colab": {
      "provenance": []
    },
    "kernelspec": {
      "name": "python3",
      "display_name": "Python 3"
    },
    "language_info": {
      "name": "python"
    }
  },
  "cells": [
    {
      "cell_type": "code",
      "source": [],
      "metadata": {
        "id": "NzAqnRr-98s8"
      },
      "execution_count": null,
      "outputs": []
    },
    {
      "cell_type": "markdown",
      "source": [],
      "metadata": {
        "id": "9HfzhG0X9iV2"
      }
    },
    {
      "cell_type": "markdown",
      "source": [
        "시계열 어떻게 할 것인가\n",
        "\n",
        "1.시계열 데이터의 특징\n",
        "\n",
        "2.AR\n",
        "\n",
        "3.MA\n",
        "\n",
        "4.ARIMA\n",
        "\n",
        "5.시계열 분석시 고려해야할 것\n"
      ],
      "metadata": {
        "id": "NO9OI8n19jGm"
      }
    },
    {
      "cell_type": "code",
      "execution_count": null,
      "metadata": {
        "id": "2mKYXQfq9hz1"
      },
      "outputs": [],
      "source": []
    }
  ]
}